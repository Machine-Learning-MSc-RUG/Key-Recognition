{
 "metadata": {
  "language_info": {
   "codemirror_mode": {
    "name": "ipython",
    "version": 3
   },
   "file_extension": ".py",
   "mimetype": "text/x-python",
   "name": "python",
   "nbconvert_exporter": "python",
   "pygments_lexer": "ipython3",
   "version": "3.7.3-final"
  },
  "orig_nbformat": 2,
  "kernelspec": {
   "name": "python3",
   "display_name": "Python 3.7.3 64-bit ('venv')",
   "metadata": {
    "interpreter": {
     "hash": "cc2014939c91fb31ed49de05ab5513c6a3f916f4a31c77aab7f0ab2c9b403e52"
    }
   }
  }
 },
 "nbformat": 4,
 "nbformat_minor": 2,
 "cells": [
  {
   "cell_type": "code",
   "execution_count": 105,
   "metadata": {},
   "outputs": [],
   "source": [
    "from MultinomialHMM import MultinomialHMM\n",
    "from pickle import load\n",
    "from data import get_meta_path, get_track_path\n",
    "from meta import Meta\n",
    "import pandas as pd\n",
    "import numpy as np\n",
    "from seqlearn.evaluation import SequenceKFold, whole_sequence_accuracy"
   ]
  },
  {
   "cell_type": "code",
   "execution_count": 40,
   "metadata": {},
   "outputs": [
    {
     "output_type": "execute_result",
     "data": {
      "text/plain": [
       "(100,)"
      ]
     },
     "metadata": {},
     "execution_count": 40
    }
   ],
   "source": [
    "output_dir = '../dataset'\n",
    "meta = Meta.load(output_dir)\n",
    "track_ids = meta.track_ids\n",
    "np.shape(track_ids)"
   ]
  },
  {
   "cell_type": "code",
   "execution_count": 39,
   "metadata": {},
   "outputs": [
    {
     "output_type": "execute_result",
     "data": {
      "text/plain": [
       "(100,)"
      ]
     },
     "metadata": {},
     "execution_count": 39
    }
   ],
   "source": [
    "def get_analysis(output_dir, track_id):\n",
    "    path = get_track_path(output_dir, track_id)\n",
    "    with open(path, 'rb') as f:\n",
    "        return load(f)\n",
    "analyses = [get_analysis(output_dir, track_id) for track_id in track_ids]\n",
    "np.shape(analyses)"
   ]
  },
  {
   "cell_type": "code",
   "execution_count": 61,
   "metadata": {},
   "outputs": [
    {
     "output_type": "stream",
     "name": "stdout",
     "text": [
      "dict_keys(['id', 'segments', 'duration', 'key'])\n"
     ]
    },
    {
     "output_type": "execute_result",
     "data": {
      "text/plain": [
       "{'start': 0.0,\n",
       " 'duration': 0.11279,\n",
       " 'confidence': 0.0,\n",
       " 'pitches': [1.0,\n",
       "  0.707,\n",
       "  0.374,\n",
       "  0.391,\n",
       "  0.39,\n",
       "  0.403,\n",
       "  0.306,\n",
       "  0.27,\n",
       "  0.138,\n",
       "  0.116,\n",
       "  0.309,\n",
       "  0.101]}"
      ]
     },
     "metadata": {},
     "execution_count": 61
    }
   ],
   "source": [
    "print(analyses[0].keys())\n",
    "analyses[0]['segments'][0]"
   ]
  },
  {
   "cell_type": "code",
   "execution_count": 117,
   "metadata": {},
   "outputs": [
    {
     "output_type": "execute_result",
     "data": {
      "text/plain": [
       "(100,)"
      ]
     },
     "metadata": {},
     "execution_count": 117
    }
   ],
   "source": [
    "map_segments = lambda analysis: [\n",
    "    np.roll(segment['pitches'], -analysis['key']) for segment in analysis['segments']\n",
    "]\n",
    "mapped_segments = [map_segments(analysis) for analysis in analyses]\n",
    "np.shape(mapped_segments)"
   ]
  },
  {
   "cell_type": "code",
   "execution_count": 118,
   "metadata": {},
   "outputs": [
    {
     "output_type": "execute_result",
     "data": {
      "text/plain": [
       "(100,)"
      ]
     },
     "metadata": {},
     "execution_count": 118
    }
   ],
   "source": [
    "segments_per_track = [len(segment) for segment in mapped_segments]\n",
    "np.shape(segments_per_track)"
   ]
  },
  {
   "cell_type": "code",
   "execution_count": 119,
   "metadata": {},
   "outputs": [
    {
     "output_type": "execute_result",
     "data": {
      "text/plain": [
       "array([[0.2 , 0.3 ],\n",
       "       [0.4 , 0.5 ],\n",
       "       [0.55, 0.11],\n",
       "       [0.23, 0.11]])"
      ]
     },
     "metadata": {},
     "execution_count": 119
    }
   ],
   "source": [
    "arrays = [[[0.2, 0.3], [0.4, 0.5]], [[0.55, 0.11], [0.23, 0.11]]]\n",
    "np.concatenate(arrays)"
   ]
  },
  {
   "cell_type": "code",
   "execution_count": 120,
   "metadata": {},
   "outputs": [
    {
     "output_type": "execute_result",
     "data": {
      "text/plain": [
       "(94196, 12)"
      ]
     },
     "metadata": {},
     "execution_count": 120
    }
   ],
   "source": [
    "segments = np.concatenate(mapped_segments)\n",
    "np.shape(segments)"
   ]
  },
  {
   "cell_type": "code",
   "execution_count": 121,
   "metadata": {},
   "outputs": [
    {
     "output_type": "execute_result",
     "data": {
      "text/plain": [
       "(100,)"
      ]
     },
     "metadata": {},
     "execution_count": 121
    }
   ],
   "source": [
    "keys = [analysis['key'] for analysis in analyses]\n",
    "np.shape(keys)"
   ]
  },
  {
   "source": [
    "### Fit and predict using `MultinomialHMM`"
   ],
   "cell_type": "markdown",
   "metadata": {}
  },
  {
   "cell_type": "code",
   "execution_count": 122,
   "metadata": {},
   "outputs": [
    {
     "output_type": "execute_result",
     "data": {
      "text/plain": [
       "MultinomialHMM(alpha=0.01, decode='viterbi')"
      ]
     },
     "metadata": {},
     "execution_count": 122
    }
   ],
   "source": [
    "hmm = MultinomialHMM(decode=\"viterbi\", alpha=.01) # default params\n",
    "hmm"
   ]
  },
  {
   "cell_type": "code",
   "execution_count": 123,
   "metadata": {},
   "outputs": [],
   "source": [
    "X = segments\n",
    "y = np.repeat(keys, lengths)\n",
    "lengths = segments_per_track"
   ]
  },
  {
   "cell_type": "code",
   "execution_count": 124,
   "metadata": {},
   "outputs": [
    {
     "output_type": "execute_result",
     "data": {
      "text/plain": [
       "<seqlearn.evaluation.SequenceKFold at 0x7fe8176f7f98>"
      ]
     },
     "metadata": {},
     "execution_count": 124
    }
   ],
   "source": [
    "kfold = SequenceKFold(\n",
    "    lengths,\n",
    "    n_folds=3, shuffle=True\n",
    ")\n",
    "kfold"
   ]
  },
  {
   "cell_type": "code",
   "execution_count": 134,
   "metadata": {},
   "outputs": [
    {
     "output_type": "stream",
     "name": "stdout",
     "text": [
      "3-fold accuracy: 0.12903225806451613\n3-fold accuracy: 0.11764705882352944\n3-fold accuracy: 0.05714285714285716\n"
     ]
    }
   ],
   "source": [
    "folds = list(iter(kfold))\n",
    "for train, lengths_train, test, lengths_test in folds:\n",
    "\n",
    "    model = hmm.fit(X[train], y[train], lengths_train)\n",
    "    y_pred = model.predict(X[test], lengths=lengths_test)\n",
    "    y_true = y[test]\n",
    "    acc = whole_sequence_accuracy(y_true, y_pred, lengths_test)\n",
    "    print(f'3-fold accuracy: {acc}')"
   ]
  }
 ]
}