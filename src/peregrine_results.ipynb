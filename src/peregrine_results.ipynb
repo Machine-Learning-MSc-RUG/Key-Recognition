{
 "cells": [
  {
   "cell_type": "code",
   "execution_count": 1,
   "metadata": {},
   "outputs": [],
   "source": [
    "import pandas as pd\n",
    "import numpy as np\n",
    "import seaborn as sns\n",
    "import matplotlib.pyplot as plt\n",
    "import matplotlib.ticker as mtick\n",
    "sns.set_style(\"whitegrid\")"
   ]
  },
  {
   "cell_type": "markdown",
   "metadata": {},
   "source": [
    "Collect all data"
   ]
  },
  {
   "cell_type": "code",
   "execution_count": 2,
   "metadata": {},
   "outputs": [
    {
     "data": {
      "text/html": [
       "<div>\n",
       "<style scoped>\n",
       "    .dataframe tbody tr th:only-of-type {\n",
       "        vertical-align: middle;\n",
       "    }\n",
       "\n",
       "    .dataframe tbody tr th {\n",
       "        vertical-align: top;\n",
       "    }\n",
       "\n",
       "    .dataframe thead th {\n",
       "        text-align: right;\n",
       "    }\n",
       "</style>\n",
       "<table border=\"1\" class=\"dataframe\">\n",
       "  <thead>\n",
       "    <tr style=\"text-align: right;\">\n",
       "      <th></th>\n",
       "      <th>fold</th>\n",
       "      <th>n_components</th>\n",
       "      <th>error</th>\n",
       "      <th>walltime</th>\n",
       "      <th>cputime</th>\n",
       "    </tr>\n",
       "  </thead>\n",
       "  <tbody>\n",
       "    <tr>\n",
       "      <td>0</td>\n",
       "      <td>1</td>\n",
       "      <td>1</td>\n",
       "      <td>38.83</td>\n",
       "      <td>00:12:05</td>\n",
       "      <td>00:54:23</td>\n",
       "    </tr>\n",
       "    <tr>\n",
       "      <td>1</td>\n",
       "      <td>2</td>\n",
       "      <td>1</td>\n",
       "      <td>40.65</td>\n",
       "      <td>00:12:05</td>\n",
       "      <td>00:54:23</td>\n",
       "    </tr>\n",
       "    <tr>\n",
       "      <td>2</td>\n",
       "      <td>3</td>\n",
       "      <td>1</td>\n",
       "      <td>40.24</td>\n",
       "      <td>00:12:05</td>\n",
       "      <td>00:54:23</td>\n",
       "    </tr>\n",
       "    <tr>\n",
       "      <td>3</td>\n",
       "      <td>4</td>\n",
       "      <td>1</td>\n",
       "      <td>38.77</td>\n",
       "      <td>00:12:05</td>\n",
       "      <td>00:54:23</td>\n",
       "    </tr>\n",
       "    <tr>\n",
       "      <td>4</td>\n",
       "      <td>5</td>\n",
       "      <td>1</td>\n",
       "      <td>39.13</td>\n",
       "      <td>00:12:05</td>\n",
       "      <td>00:54:23</td>\n",
       "    </tr>\n",
       "    <tr>\n",
       "      <td>...</td>\n",
       "      <td>...</td>\n",
       "      <td>...</td>\n",
       "      <td>...</td>\n",
       "      <td>...</td>\n",
       "      <td>...</td>\n",
       "    </tr>\n",
       "    <tr>\n",
       "      <td>35</td>\n",
       "      <td>6</td>\n",
       "      <td>19</td>\n",
       "      <td>40.65</td>\n",
       "      <td>23:30:04</td>\n",
       "      <td>9-11:25:55</td>\n",
       "    </tr>\n",
       "    <tr>\n",
       "      <td>36</td>\n",
       "      <td>7</td>\n",
       "      <td>19</td>\n",
       "      <td>43.98</td>\n",
       "      <td>23:30:04</td>\n",
       "      <td>9-11:25:55</td>\n",
       "    </tr>\n",
       "    <tr>\n",
       "      <td>37</td>\n",
       "      <td>8</td>\n",
       "      <td>19</td>\n",
       "      <td>39.37</td>\n",
       "      <td>23:30:04</td>\n",
       "      <td>9-11:25:55</td>\n",
       "    </tr>\n",
       "    <tr>\n",
       "      <td>38</td>\n",
       "      <td>9</td>\n",
       "      <td>19</td>\n",
       "      <td>42.41</td>\n",
       "      <td>23:30:04</td>\n",
       "      <td>9-11:25:55</td>\n",
       "    </tr>\n",
       "    <tr>\n",
       "      <td>39</td>\n",
       "      <td>10</td>\n",
       "      <td>19</td>\n",
       "      <td>41.30</td>\n",
       "      <td>23:30:04</td>\n",
       "      <td>9-11:25:55</td>\n",
       "    </tr>\n",
       "  </tbody>\n",
       "</table>\n",
       "<p>240 rows × 5 columns</p>\n",
       "</div>"
      ],
      "text/plain": [
       "    fold  n_components  error  walltime     cputime\n",
       "0      1             1  38.83  00:12:05    00:54:23\n",
       "1      2             1  40.65  00:12:05    00:54:23\n",
       "2      3             1  40.24  00:12:05    00:54:23\n",
       "3      4             1  38.77  00:12:05    00:54:23\n",
       "4      5             1  39.13  00:12:05    00:54:23\n",
       "..   ...           ...    ...       ...         ...\n",
       "35     6            19  40.65  23:30:04  9-11:25:55\n",
       "36     7            19  43.98  23:30:04  9-11:25:55\n",
       "37     8            19  39.37  23:30:04  9-11:25:55\n",
       "38     9            19  42.41  23:30:04  9-11:25:55\n",
       "39    10            19  41.30  23:30:04  9-11:25:55\n",
       "\n",
       "[240 rows x 5 columns]"
      ]
     },
     "execution_count": 2,
     "metadata": {},
     "output_type": "execute_result"
    }
   ],
   "source": [
    "dfs = []\n",
    "dfs.append(pd.read_csv('../results/17824621.csv'))\n",
    "dfs.append(pd.read_csv('../results/17827845.csv'))\n",
    "dfs.append(pd.read_csv('../results/17827850.csv'))\n",
    "dfs.append(pd.read_csv('../results/17827855.csv'))\n",
    "dfs.append(pd.read_csv('../results/17827870.csv'))\n",
    "dfs.append(pd.read_csv('../results/17838246.csv'))\n",
    "dfs.append(pd.read_csv('../results/17838254.csv'))\n",
    "dfs.append(pd.read_csv('../results/17873402.csv'))\n",
    "data = pd.concat(dfs)\n",
    "data = data.rename(columns={'hyperparam': 'n_components'})\n",
    "data"
   ]
  },
  {
   "cell_type": "markdown",
   "metadata": {},
   "source": [
    "Convert wall- and cputime to minutes.\n",
    "\n",
    "Note walltime is total time spend to compute all folds, whilst cpu time is total **accumulated** time spent by each individual fold on training and testing the model."
   ]
  },
  {
   "cell_type": "code",
   "execution_count": 3,
   "metadata": {},
   "outputs": [],
   "source": [
    "def to_minutes(duration):\n",
    "    '''converts duration to minutes.\n",
    "    e.g. \"00:54:23\"   to 54.38 min\n",
    "    e.g. \"1-00:00:00\" to 1440.00 min (= 1 day)'''\n",
    "    days = duration.str.extract(r'(\\d)-.*', expand=False)\n",
    "    days = pd.to_numeric(days)\n",
    "    timestamp = duration.str.replace(r'\\d-', '')\n",
    "    minutes = timestamp.apply(lambda x: pd.Timedelta(x).total_seconds() / 60)\n",
    "    return minutes + days.fillna(0) * 24 * 60\n",
    "\n",
    "data['walltime (minutes)'] = to_minutes(data['walltime'])\n",
    "data['cputime (minutes)'] = to_minutes(data['cputime'])"
   ]
  },
  {
   "cell_type": "markdown",
   "metadata": {},
   "source": [
    "Plot `n_components` versus error rate"
   ]
  },
  {
   "cell_type": "code",
   "execution_count": 4,
   "metadata": {},
   "outputs": [
    {
     "data": {
      "text/plain": [
       "Text(0, 0.5, 'Time (minutes)')"
      ]
     },
     "execution_count": 4,
     "metadata": {},
     "output_type": "execute_result"
    },
    {
     "data": {
      "image/png": "[encoded data removed]",
      "text/plain": [
       "<Figure size 1080x1080 with 2 Axes>"
      ]
     },
     "metadata": {
      "needs_background": "light"
     },
     "output_type": "display_data"
    }
   ],
   "source": [
    "fig, (ax0, ax1) = plt.subplots(nrows=2, figsize=(15,15))\n",
    "sns.boxplot(data=data.loc[data.n_components > 1], x='n_components', y='error', ax=ax0, color=\"lightsteelblue\")\n",
    "ax0.set_title('Validation error rate for each number of model states', fontsize=18)\n",
    "ax0.set_xlabel(\"Number of model states\", fontsize=18)\n",
    "ax0.set_ylabel(\"Validation Error Rate (%)\", fontsize=18)\n",
    "\n",
    "sns.barplot(data=data.loc[data.n_components > 1], x='n_components', y='walltime (minutes)', ax=ax1, palette=\"Blues\")\n",
    "ax1.set_title('Total time spend to compute all folds per number of model states', fontsize=18)\n",
    "ax1.set_xlabel(\"Number of model states\", fontsize=18)\n",
    "ax1.set_ylabel(\"Time (minutes)\", fontsize=18)"
   ]
  },
  {
   "cell_type": "markdown",
   "metadata": {},
   "source": [
    "## HMM vs Naive method"
   ]
  },
  {
   "cell_type": "markdown",
   "metadata": {},
   "source": [
    "Compare effect of subset sizes on performance"
   ]
  },
  {
   "cell_type": "code",
   "execution_count": 5,
   "metadata": {},
   "outputs": [],
   "source": [
    "nm_10 = [100.00, 0.00, 0.00, 0.00, 100.00, 0.00, 0.00, 0.00, 0.00, 100.00]\n",
    "nm_100 = [30.00, 60.00, 60.00, 50.00, 40.00, 80.00, 80.00, 50.00, 40.00, 70.00,]\n",
    "nm_1000 = [56.00, 44.00, 50.00, 56.00, 43.00, 41.00, 47.00, 44.00, 46.00, 50.00]\n",
    "nm_9889 = [47.83, 46.01, 44.99, 46.81, 46.61, 46.11, 46.96, 42.71, 45.55, 44.64]\n",
    "naive_method = [nm_10, nm_100, nm_1000, nm_9889]"
   ]
  },
  {
   "cell_type": "code",
   "execution_count": 6,
   "metadata": {},
   "outputs": [
    {
     "name": "stderr",
     "output_type": "stream",
     "text": [
      "/opt/anaconda3/lib/python3.7/site-packages/ipykernel_launcher.py:7: SettingWithCopyWarning: \n",
      "A value is trying to be set on a copy of a slice from a DataFrame.\n",
      "Try using .loc[row_indexer,col_indexer] = value instead\n",
      "\n",
      "See the caveats in the documentation: http://pandas.pydata.org/pandas-docs/stable/user_guide/indexing.html#returning-a-view-versus-a-copy\n",
      "  import sys\n",
      "/opt/anaconda3/lib/python3.7/site-packages/ipykernel_launcher.py:8: FutureWarning: Sorting because non-concatenation axis is not aligned. A future version\n",
      "of pandas will change to not sort by default.\n",
      "\n",
      "To accept the future behavior, pass 'sort=False'.\n",
      "\n",
      "To retain the current behavior and silence the warning, pass 'sort=True'.\n",
      "\n",
      "  \n"
     ]
    },
    {
     "data": {
      "text/html": [
       "<div>\n",
       "<style scoped>\n",
       "    .dataframe tbody tr th:only-of-type {\n",
       "        vertical-align: middle;\n",
       "    }\n",
       "\n",
       "    .dataframe tbody tr th {\n",
       "        vertical-align: top;\n",
       "    }\n",
       "\n",
       "    .dataframe thead th {\n",
       "        text-align: right;\n",
       "    }\n",
       "</style>\n",
       "<table border=\"1\" class=\"dataframe\">\n",
       "  <thead>\n",
       "    <tr style=\"text-align: right;\">\n",
       "      <th></th>\n",
       "      <th>cputime</th>\n",
       "      <th>cputime (minutes)</th>\n",
       "      <th>error</th>\n",
       "      <th>fold</th>\n",
       "      <th>n_components</th>\n",
       "      <th>subset_size</th>\n",
       "      <th>walltime</th>\n",
       "      <th>walltime (minutes)</th>\n",
       "    </tr>\n",
       "  </thead>\n",
       "  <tbody>\n",
       "    <tr>\n",
       "      <td>0</td>\n",
       "      <td>00:00:42</td>\n",
       "      <td>0.7</td>\n",
       "      <td>100.0</td>\n",
       "      <td>1</td>\n",
       "      <td>2</td>\n",
       "      <td>10</td>\n",
       "      <td>00:01:23</td>\n",
       "      <td>1.383333</td>\n",
       "    </tr>\n",
       "    <tr>\n",
       "      <td>1</td>\n",
       "      <td>00:00:42</td>\n",
       "      <td>0.7</td>\n",
       "      <td>100.0</td>\n",
       "      <td>2</td>\n",
       "      <td>2</td>\n",
       "      <td>10</td>\n",
       "      <td>00:01:23</td>\n",
       "      <td>1.383333</td>\n",
       "    </tr>\n",
       "    <tr>\n",
       "      <td>2</td>\n",
       "      <td>00:00:42</td>\n",
       "      <td>0.7</td>\n",
       "      <td>100.0</td>\n",
       "      <td>3</td>\n",
       "      <td>2</td>\n",
       "      <td>10</td>\n",
       "      <td>00:01:23</td>\n",
       "      <td>1.383333</td>\n",
       "    </tr>\n",
       "    <tr>\n",
       "      <td>3</td>\n",
       "      <td>00:00:42</td>\n",
       "      <td>0.7</td>\n",
       "      <td>100.0</td>\n",
       "      <td>4</td>\n",
       "      <td>2</td>\n",
       "      <td>10</td>\n",
       "      <td>00:01:23</td>\n",
       "      <td>1.383333</td>\n",
       "    </tr>\n",
       "    <tr>\n",
       "      <td>4</td>\n",
       "      <td>00:00:42</td>\n",
       "      <td>0.7</td>\n",
       "      <td>100.0</td>\n",
       "      <td>5</td>\n",
       "      <td>2</td>\n",
       "      <td>10</td>\n",
       "      <td>00:01:23</td>\n",
       "      <td>1.383333</td>\n",
       "    </tr>\n",
       "  </tbody>\n",
       "</table>\n",
       "</div>"
      ],
      "text/plain": [
       "    cputime  cputime (minutes)  error  fold  n_components  subset_size  \\\n",
       "0  00:00:42                0.7  100.0     1             2           10   \n",
       "1  00:00:42                0.7  100.0     2             2           10   \n",
       "2  00:00:42                0.7  100.0     3             2           10   \n",
       "3  00:00:42                0.7  100.0     4             2           10   \n",
       "4  00:00:42                0.7  100.0     5             2           10   \n",
       "\n",
       "   walltime  walltime (minutes)  \n",
       "0  00:01:23            1.383333  \n",
       "1  00:01:23            1.383333  \n",
       "2  00:01:23            1.383333  \n",
       "3  00:01:23            1.383333  \n",
       "4  00:01:23            1.383333  "
      ]
     },
     "execution_count": 6,
     "metadata": {},
     "output_type": "execute_result"
    }
   ],
   "source": [
    "subsetdata = pd.read_csv('../results/17873366.csv')\n",
    "subsetdata = subsetdata.rename(columns={'hyperparam': 'subset_size'})\n",
    "subsetdata['n_components'] = 2\n",
    "subsetdata['walltime (minutes)'] = to_minutes(subsetdata['walltime'])\n",
    "subsetdata['cputime (minutes)'] = to_minutes(subsetdata['cputime'])\n",
    "fullsubset = data[data['n_components'] == 2]\n",
    "fullsubset['subset_size'] = 9889\n",
    "subsetdata = pd.concat([subsetdata, fullsubset])\n",
    "subsetdata.head()"
   ]
  },
  {
   "cell_type": "code",
   "execution_count": 7,
   "metadata": {},
   "outputs": [],
   "source": [
    "subsetdata[\"method\"] = \"hmm\"\n",
    "subsetdata = subsetdata[[\"method\", \"subset_size\", \"error\"]]\n",
    "subset_methods = pd.concat([subsetdata] + [pd.DataFrame([[\"naive\", j, k[i]] for i in range(10)], columns=[\"method\", \"subset_size\", \"error\"]) for j,k in zip([10, 100, 1000, 9889], naive_method)])"
   ]
  },
  {
   "cell_type": "code",
   "execution_count": 8,
   "metadata": {
    "scrolled": false
   },
   "outputs": [
    {
     "data": {
      "image/png": "[encoded data removed]",
      "text/plain": [
       "<Figure size 360x360 with 1 Axes>"
      ]
     },
     "metadata": {
      "needs_background": "light"
     },
     "output_type": "display_data"
    }
   ],
   "source": [
    "sns.catplot(data=subset_methods, x=\"subset_size\", y=\"error\", hue=\"method\", kind=\"box\", legend=False, palette=\"Blues\")\n",
    "plt.xlabel(\"Key recognition method\", fontsize=14)\n",
    "plt.ylabel(\"Validation Error Rate (%)\", fontsize=14)\n",
    "plt.title(\"Comparison of Naive method with HMM\", fontsize=14)\n",
    "plt.legend(fontsize=14)\n",
    "plt.show()"
   ]
  },
  {
   "cell_type": "markdown",
   "metadata": {},
   "source": [
    "Varying confidence levels"
   ]
  },
  {
   "cell_type": "code",
   "execution_count": 324,
   "metadata": {
    "scrolled": false
   },
   "outputs": [
    {
     "data": {
      "text/html": [
       "<div>\n",
       "<style scoped>\n",
       "    .dataframe tbody tr th:only-of-type {\n",
       "        vertical-align: middle;\n",
       "    }\n",
       "\n",
       "    .dataframe tbody tr th {\n",
       "        vertical-align: top;\n",
       "    }\n",
       "\n",
       "    .dataframe thead th {\n",
       "        text-align: right;\n",
       "    }\n",
       "</style>\n",
       "<table border=\"1\" class=\"dataframe\">\n",
       "  <thead>\n",
       "    <tr style=\"text-align: right;\">\n",
       "      <th></th>\n",
       "      <th>fold</th>\n",
       "      <th>min_conf</th>\n",
       "      <th>error</th>\n",
       "      <th>walltime</th>\n",
       "      <th>cputime</th>\n",
       "      <th>n</th>\n",
       "      <th>Minimum key confidence</th>\n",
       "    </tr>\n",
       "  </thead>\n",
       "  <tbody>\n",
       "    <tr>\n",
       "      <td>0</td>\n",
       "      <td>1</td>\n",
       "      <td>0</td>\n",
       "      <td>39.27</td>\n",
       "      <td>01:27:01</td>\n",
       "      <td>08:09:04</td>\n",
       "      <td>9885</td>\n",
       "      <td>0.0</td>\n",
       "    </tr>\n",
       "    <tr>\n",
       "      <td>1</td>\n",
       "      <td>2</td>\n",
       "      <td>0</td>\n",
       "      <td>38.06</td>\n",
       "      <td>01:27:01</td>\n",
       "      <td>08:09:04</td>\n",
       "      <td>9885</td>\n",
       "      <td>0.0</td>\n",
       "    </tr>\n",
       "    <tr>\n",
       "      <td>2</td>\n",
       "      <td>3</td>\n",
       "      <td>0</td>\n",
       "      <td>41.76</td>\n",
       "      <td>01:27:01</td>\n",
       "      <td>08:09:04</td>\n",
       "      <td>9885</td>\n",
       "      <td>0.0</td>\n",
       "    </tr>\n",
       "    <tr>\n",
       "      <td>3</td>\n",
       "      <td>4</td>\n",
       "      <td>0</td>\n",
       "      <td>39.23</td>\n",
       "      <td>01:27:01</td>\n",
       "      <td>08:09:04</td>\n",
       "      <td>9885</td>\n",
       "      <td>0.0</td>\n",
       "    </tr>\n",
       "    <tr>\n",
       "      <td>4</td>\n",
       "      <td>5</td>\n",
       "      <td>0</td>\n",
       "      <td>38.97</td>\n",
       "      <td>01:27:01</td>\n",
       "      <td>08:09:04</td>\n",
       "      <td>9885</td>\n",
       "      <td>0.0</td>\n",
       "    </tr>\n",
       "  </tbody>\n",
       "</table>\n",
       "</div>"
      ],
      "text/plain": [
       "   fold  min_conf  error  walltime   cputime     n  Minimum key confidence\n",
       "0     1         0  39.27  01:27:01  08:09:04  9885                     0.0\n",
       "1     2         0  38.06  01:27:01  08:09:04  9885                     0.0\n",
       "2     3         0  41.76  01:27:01  08:09:04  9885                     0.0\n",
       "3     4         0  39.23  01:27:01  08:09:04  9885                     0.0\n",
       "4     5         0  38.97  01:27:01  08:09:04  9885                     0.0"
      ]
     },
     "execution_count": 324,
     "metadata": {},
     "output_type": "execute_result"
    }
   ],
   "source": [
    "confdata = pd.read_csv('../results/17902559.csv')\n",
    "confdata = confdata.rename(columns={'hyperparam': 'min_conf'})\n",
    "confdata['Minimum key confidence'] = confdata['min_conf'] / 100\n",
    "confdata = confdata.loc[confdata['Minimum key confidence'].isin(np.linspace(0, 1.0, 11))]\n",
    "confdata.head()"
   ]
  },
  {
   "cell_type": "code",
   "execution_count": 358,
   "metadata": {},
   "outputs": [
    {
     "data": {
      "image/png": "[encoded data removed]",
      "text/plain": [
       "<Figure size 432x288 with 1 Axes>"
      ]
     },
     "metadata": {
      "needs_background": "light"
     },
     "output_type": "display_data"
    }
   ],
   "source": [
    "labs = sns.boxplot(data=confdata, x='Minimum key confidence', y='error', color='lightsteelblue')\n"
   ]
  },
  {
   "cell_type": "code",
   "execution_count": 366,
   "metadata": {},
   "outputs": [
    {
     "data": {
      "image/png": "[encoded data removed]",
      "text/plain": [
       "<Figure size 432x288 with 2 Axes>"
      ]
     },
     "metadata": {},
     "output_type": "display_data"
    }
   ],
   "source": [
    "fig, ax1 = plt.subplots()\n",
    "\n",
    "ax1.set_xlabel('Minimum key confidence', fontsize=14)\n",
    "ax1.plot([t.get_text()  for t in labs.get_xticklabels()], confdata.n.unique()*100/9889, color='darkgoldenrod')\n",
    "ax1.fill_between([t.get_text()  for t in labs.get_xticklabels()], confdata.n.unique()*100/9889, color='tan', alpha=0.5)\n",
    "ax1.tick_params(axis='y', labelcolor='darkgoldenrod')\n",
    "\n",
    "ax2 = ax1.twinx()  # instantiate a second axes that shares the same x-axis\n",
    "ax1.set_ylabel('Percentage of Tracks (%)', fontsize=14, color='darkgoldenrod')  # we already handled the x-label with ax1\n",
    "sns.boxplot(data=confdata, x='Minimum key confidence', y='error', color='lightsteelblue', ax=ax2)\n",
    "ax2.tick_params(axis='y', labelcolor='steelblue')\n",
    "ax2.set_ylabel('Validation Error Rate (%)', fontsize=14, color='steelblue')\n",
    "\n",
    "\n",
    "fig.tight_layout()  # otherwise the right y-label is slightly clipped\n",
    "ax1.set_title('Performance as a function of track key confidence', fontsize=14)\n",
    "plt.show()"
   ]
  },
  {
   "cell_type": "markdown",
   "metadata": {},
   "source": [
    "Total CPU time spent"
   ]
  },
  {
   "cell_type": "code",
   "execution_count": 7,
   "metadata": {},
   "outputs": [
    {
     "data": {
      "text/plain": [
       "'29192 hours spent computing on a CPU'"
      ]
     },
     "execution_count": 7,
     "metadata": {},
     "output_type": "execute_result"
    }
   ],
   "source": [
    "'{:.0f} hours spent computing on a CPU'.format(\\\n",
    "    data['cputime (minutes)'].sum()/60)"
   ]
  },
  {
   "cell_type": "code",
   "execution_count": null,
   "metadata": {},
   "outputs": [],
   "source": []
  }
 ],
 "metadata": {
  "kernelspec": {
   "display_name": "Python 3",
   "language": "python",
   "name": "python3"
  },
  "language_info": {
   "codemirror_mode": {
    "name": "ipython",
    "version": 3
   },
   "file_extension": ".py",
   "mimetype": "text/x-python",
   "name": "python",
   "nbconvert_exporter": "python",
   "pygments_lexer": "ipython3",
   "version": "3.7.4"
  }
 },
 "nbformat": 4,
 "nbformat_minor": 2
}
